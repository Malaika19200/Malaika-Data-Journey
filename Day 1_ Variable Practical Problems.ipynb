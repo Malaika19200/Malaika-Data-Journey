{
 "cells": [
  {
   "cell_type": "markdown",
   "metadata": {
    "id": "C0Mprx5Ksnnc"
   },
   "source": [
    "**Day 1: Variable Practical Problems.**"
   ]
  },
  {
   "cell_type": "markdown",
   "metadata": {
    "id": "q3QpYvXIs35Z"
   },
   "source": [
    "1️⃣ Personal Info Storage\n",
    "Create variables to store your:\n",
    "\n",
    "Name\n",
    "\n",
    "Age\n",
    "\n",
    "City\n",
    "\n",
    "Dream profession\n",
    "\n",
    "Then print them one by one."
   ]
  },
  {
   "cell_type": "code",
   "execution_count": null,
   "metadata": {
    "colab": {
     "base_uri": "https://localhost:8080/"
    },
    "executionInfo": {
     "elapsed": 37,
     "status": "ok",
     "timestamp": 1760545737105,
     "user": {
      "displayName": "Malaika Arshad",
      "userId": "13479106996471971724"
     },
     "user_tz": -300
    },
    "id": "I6C_U5bktRvY",
    "outputId": "d742ee8d-6c05-4ea3-b268-25523a9d3d7c"
   },
   "outputs": [
    {
     "name": "stdout",
     "output_type": "stream",
     "text": [
      "My name is Malaika Arshad.\n",
      "I'm 25 years old.\n",
      "I live in Faisalabad.\n",
      "My dream profession is I want to become a data scientist expert one day In Shaa Allah by the grace of Allah Almighty and after that my determinations and hard work..\n"
     ]
    }
   ],
   "source": [
    "name=\"Malaika Arshad\"\n",
    "age=25\n",
    "city=\"Faisalabad\"\n",
    "dream_profession=\"I want to become a data scientist expert one day In Shaa Allah by the grace of Allah Almighty and after that my determinations and hard work.\"\n",
    "print(f\"My name is {name}.\")\n",
    "print(f\"I'm {age} years old.\")\n",
    "print(f\"I live in {city}.\")\n",
    "print(f\"My dream profession is {dream_profession}.\")"
   ]
  },
  {
   "cell_type": "markdown",
   "metadata": {
    "id": "FoSWcoXovpCB"
   },
   "source": [
    "2️⃣ Simple Math Operations\n",
    "\n",
    "Create two variables num1 and num2 with any numbers.\n",
    "Then print:\n",
    "\n",
    "Their sum\n",
    "\n",
    "Difference\n",
    "\n",
    "Product\n",
    "\n",
    "Division"
   ]
  },
  {
   "cell_type": "code",
   "execution_count": null,
   "metadata": {
    "colab": {
     "base_uri": "https://localhost:8080/"
    },
    "executionInfo": {
     "elapsed": 13,
     "status": "ok",
     "timestamp": 1760545737134,
     "user": {
      "displayName": "Malaika Arshad",
      "userId": "13479106996471971724"
     },
     "user_tz": -300
    },
    "id": "-ISW7EfhvzPl",
    "outputId": "9dfc5bc2-eea1-4935-cb71-fe88c9951243"
   },
   "outputs": [
    {
     "name": "stdout",
     "output_type": "stream",
     "text": [
      "Their sum is 59.\n",
      "Their difference is -13.\n",
      "Their product is 828.\n",
      "Their division is 0.6388888888888888.\n"
     ]
    }
   ],
   "source": [
    "num1=23\n",
    "num2=36\n",
    "print(f\"Their sum is {num1+num2}.\")\n",
    "print(f\"Their difference is {num1-num2}.\")\n",
    "print(f\"Their product is {num1*num2}.\")\n",
    "print(f\"Their division is {num1/num2}.\")"
   ]
  },
  {
   "cell_type": "markdown",
   "metadata": {
    "id": "xJe9TblpwNT9"
   },
   "source": [
    "3️⃣ Area of a Rectangle.\n",
    "\n",
    "Write a program that calculates the area of a rectangle using variables length and width."
   ]
  },
  {
   "cell_type": "code",
   "execution_count": null,
   "metadata": {
    "colab": {
     "base_uri": "https://localhost:8080/"
    },
    "executionInfo": {
     "elapsed": 48,
     "status": "ok",
     "timestamp": 1760545737178,
     "user": {
      "displayName": "Malaika Arshad",
      "userId": "13479106996471971724"
     },
     "user_tz": -300
    },
    "id": "EhYY6Fuuwe8B",
    "outputId": "e9dfb7fc-3bdb-43bf-dd80-5bad0d433b81"
   },
   "outputs": [
    {
     "name": "stdout",
     "output_type": "stream",
     "text": [
      "The area of the rectangle is 276.\n"
     ]
    }
   ],
   "source": [
    "length=23\n",
    "width=12\n",
    "print(f\"The area of the rectangle is {length*width}.\")"
   ]
  },
  {
   "cell_type": "markdown",
   "metadata": {
    "id": "L42D_Ea7wfmL"
   },
   "source": [
    "4️⃣ Temperature Conversion.\n",
    "\n",
    "Store a temperature in Celsius in a variable and convert it to Fahrenheit."
   ]
  },
  {
   "cell_type": "code",
   "execution_count": null,
   "metadata": {
    "colab": {
     "base_uri": "https://localhost:8080/"
    },
    "executionInfo": {
     "elapsed": 21,
     "status": "ok",
     "timestamp": 1760545737181,
     "user": {
      "displayName": "Malaika Arshad",
      "userId": "13479106996471971724"
     },
     "user_tz": -300
    },
    "id": "iw0RJmPXwrEX",
    "outputId": "4b63cd7a-b960-4060-8b74-60e07a35e6f7"
   },
   "outputs": [
    {
     "name": "stdout",
     "output_type": "stream",
     "text": [
      "Temperature in farenheit is 113.0.\n"
     ]
    }
   ],
   "source": [
    "temperature_celsius=45\n",
    "farenheit=(temperature_celsius * 9/5)+32\n",
    "print(f\"Temperature in farenheit is {farenheit}.\")"
   ]
  },
  {
   "cell_type": "markdown",
   "metadata": {
    "id": "nyLaynzMwrhL"
   },
   "source": [
    "5️⃣ Student Marks Average.\n",
    "\n",
    "\n",
    "Create 3 variables: math_marks, english_marks, science_marks.\n",
    "Calculate the average marks"
   ]
  },
  {
   "cell_type": "code",
   "execution_count": null,
   "metadata": {
    "colab": {
     "base_uri": "https://localhost:8080/"
    },
    "executionInfo": {
     "elapsed": 11,
     "status": "ok",
     "timestamp": 1760545737183,
     "user": {
      "displayName": "Malaika Arshad",
      "userId": "13479106996471971724"
     },
     "user_tz": -300
    },
    "id": "QzisXndCw6JR",
    "outputId": "0b4f9443-4aa7-4a35-a9b0-96d803b3e2bf"
   },
   "outputs": [
    {
     "name": "stdout",
     "output_type": "stream",
     "text": [
      "The average marks is 92.33.\n"
     ]
    }
   ],
   "source": [
    "math_marks=98\n",
    "english_marks=89\n",
    "science_marks=90\n",
    "average_marks=(math_marks+english_marks+science_marks)/3\n",
    "average_marks_rounded=round(average_marks,2)\n",
    "print(f\"The average marks is {average_marks_rounded}.\")"
   ]
  },
  {
   "cell_type": "markdown",
   "metadata": {
    "id": "VqW0Sxckw6uv"
   },
   "source": [
    "6️⃣ Simple Salary Calculator.\n",
    "\n",
    "Create variables:\n",
    "\n",
    "basic_salary\n",
    "\n",
    "bonus\n",
    "\n",
    "tax\n",
    "\n",
    "Find total_salary"
   ]
  },
  {
   "cell_type": "code",
   "execution_count": null,
   "metadata": {
    "colab": {
     "base_uri": "https://localhost:8080/"
    },
    "executionInfo": {
     "elapsed": 13,
     "status": "ok",
     "timestamp": 1760545737194,
     "user": {
      "displayName": "Malaika Arshad",
      "userId": "13479106996471971724"
     },
     "user_tz": -300
    },
    "id": "o7s2gV56xINK",
    "outputId": "d5adcbec-eb42-4eb9-f13b-b4ba6daabc58"
   },
   "outputs": [
    {
     "name": "stdout",
     "output_type": "stream",
     "text": [
      "My total salary is Rs 92000.\n"
     ]
    }
   ],
   "source": [
    "basic_salary=90000\n",
    "bonus=10000\n",
    "tax=8000\n",
    "salary_calculator=basic_salary+bonus-tax\n",
    "print(f\"My total salary is Rs {salary_calculator}.\")"
   ]
  },
  {
   "cell_type": "markdown",
   "metadata": {
    "id": "KTzAOiqPxLcA"
   },
   "source": [
    "7️⃣ Shop Bill Calculation.\n",
    "\n",
    "\n",
    "Imagine you’re running a small shop.\n",
    "Store the prices of 3 products and the quantities bought.\n",
    "Find total bill."
   ]
  },
  {
   "cell_type": "code",
   "execution_count": null,
   "metadata": {
    "colab": {
     "base_uri": "https://localhost:8080/"
    },
    "executionInfo": {
     "elapsed": 71,
     "status": "ok",
     "timestamp": 1760545737266,
     "user": {
      "displayName": "Malaika Arshad",
      "userId": "13479106996471971724"
     },
     "user_tz": -300
    },
    "id": "dJy2Q9PSxXjj",
    "outputId": "29df0c68-f0ec-4d71-8663-d01ad037f806"
   },
   "outputs": [
    {
     "name": "stdout",
     "output_type": "stream",
     "text": [
      "Total bill of shop Rs 213000.\n"
     ]
    }
   ],
   "source": [
    "quantity1=90\n",
    "price1=900\n",
    "quantity2=23\n",
    "price2=4000\n",
    "quantity3=20\n",
    "price3=2000\n",
    "bill_calculator=(quantity1*price1)+(quantity2*price2)+(quantity3*price3)\n",
    "print(f\"Total bill of shop Rs {bill_calculator}.\")"
   ]
  },
  {
   "cell_type": "markdown",
   "metadata": {
    "id": "BILv-OpXxYOv"
   },
   "source": [
    "8️⃣ BMI Calculator (Health Project Idea).\n",
    "\n",
    "Create variables:\n",
    "\n",
    "weight_kg\n",
    "\n",
    "height_m\n",
    "\n",
    "Print your BMI rounded to 2 decimals."
   ]
  },
  {
   "cell_type": "code",
   "execution_count": null,
   "metadata": {
    "colab": {
     "base_uri": "https://localhost:8080/"
    },
    "executionInfo": {
     "elapsed": 8,
     "status": "ok",
     "timestamp": 1760545737276,
     "user": {
      "displayName": "Malaika Arshad",
      "userId": "13479106996471971724"
     },
     "user_tz": -300
    },
    "id": "xU8Fm0K8xqGt",
    "outputId": "64b67a28-3acf-4c28-e892-56b5580ed8bd"
   },
   "outputs": [
    {
     "name": "stdout",
     "output_type": "stream",
     "text": [
      "My bmi is bmi 16.13\n"
     ]
    }
   ],
   "source": [
    "weight_kg=47\n",
    "# formula for ft into m= 5.6*0.3048\n",
    "height_m=1.70688\n",
    "bmi=weight_kg/height_m**2\n",
    "bmi_round=round(bmi,2)\n",
    "print(f\"My BMI is {bmi_round}.\")"
   ]
  },
  {
   "cell_type": "markdown",
   "metadata": {
    "id": "nGZFBV8gxqsW"
   },
   "source": [
    "9️⃣ Your First Real Data Science-Like Example\n",
    "\n",
    "You’re studying weather data in Faisalabad ☀️\n",
    "\n",
    "Create variables for:\n",
    "\n",
    "today_temperature\n",
    "\n",
    "humidity_level\n",
    "\n",
    "wind_speed_kmh"
   ]
  },
  {
   "cell_type": "code",
   "execution_count": null,
   "metadata": {
    "colab": {
     "base_uri": "https://localhost:8080/"
    },
    "executionInfo": {
     "elapsed": 59,
     "status": "ok",
     "timestamp": 1760545737334,
     "user": {
      "displayName": "Malaika Arshad",
      "userId": "13479106996471971724"
     },
     "user_tz": -300
    },
    "id": "o0XHs-DpyE_c",
    "outputId": "01d127b7-0543-4c39-d86a-bf99054d9a5b"
   },
   "outputs": [
    {
     "name": "stdout",
     "output_type": "stream",
     "text": [
      "The temperature of Faisalabad is 45°C, humidity level 50, wind speed 10.\n"
     ]
    }
   ],
   "source": [
    "today_temperature=45\n",
    "humidity_level=50\n",
    "wind_speed_kmh=10\n",
    "print(f\"The temperature of Faisalabad is {today_temperature}\\u00B0C, humidity level {humidity_level}%, wind speed {wind_speed_kmh}km/h.\" )"
   ]
  }
 ],
 "metadata": {
  "colab": {
   "authorship_tag": "ABX9TyOHUdd3ruu/V9WHsyk4e9vs",
   "provenance": []
  },
  "kernelspec": {
   "display_name": "Python 3",
   "name": "python3"
  },
  "language_info": {
   "name": "python"
  }
 },
 "nbformat": 4,
 "nbformat_minor": 0
}
